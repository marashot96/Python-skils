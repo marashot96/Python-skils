{
 "cells": [
  {
   "cell_type": "code",
   "execution_count": 2,
   "id": "2fc47a9e",
   "metadata": {},
   "outputs": [
    {
     "data": {
      "text/plain": [
       "'302'"
      ]
     },
     "execution_count": 2,
     "metadata": {},
     "output_type": "execute_result"
    }
   ],
   "source": [
    "def add(a: str, b: str) -> str:\n",
    "    # Выравниваем длину строк\n",
    "    max_len = max(len(a), len(b))\n",
    "    a = a.zfill(max_len)\n",
    "    b = b.zfill(max_len)\n",
    "\n",
    "    result = []\n",
    "    carry = 0\n",
    "\n",
    "    for i in range(max_len - 1, -1, -1):\n",
    "        digit_sum = int(a[i]) + int(b[i]) + carry\n",
    "        carry = digit_sum // 10\n",
    "        result.append(str(digit_sum % 10))\n",
    "\n",
    "    if carry:\n",
    "        result.append(str(carry))\n",
    "\n",
    "    return ''.join(reversed(result))\n",
    "\n",
    "add('103', '199')"
   ]
  },
  {
   "cell_type": "code",
   "execution_count": null,
   "id": "85b1ae24",
   "metadata": {},
   "outputs": [],
   "source": []
  }
 ],
 "metadata": {
  "kernelspec": {
   "display_name": "Python 3 (ipykernel)",
   "language": "python",
   "name": "python3"
  },
  "language_info": {
   "codemirror_mode": {
    "name": "ipython",
    "version": 3
   },
   "file_extension": ".py",
   "mimetype": "text/x-python",
   "name": "python",
   "nbconvert_exporter": "python",
   "pygments_lexer": "ipython3",
   "version": "3.9.7"
  }
 },
 "nbformat": 4,
 "nbformat_minor": 5
}
